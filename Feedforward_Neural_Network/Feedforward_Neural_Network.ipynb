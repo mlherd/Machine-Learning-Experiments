{
 "cells": [
  {
   "cell_type": "markdown",
   "metadata": {},
   "source": [
    "### Feedforward Neural Network with Pytorch using CPU and GPU\n",
    "#### Using Sigmoid, Tangent, and ReLU Activation Functions"
   ]
  },
  {
   "cell_type": "markdown",
   "metadata": {},
   "source": [
    "<img src=\"images/1.png\" width=\"500\" height=\"300\">"
   ]
  },
  {
   "cell_type": "markdown",
   "metadata": {},
   "source": [
    "### Import Libraries"
   ]
  },
  {
   "cell_type": "code",
   "execution_count": 1,
   "metadata": {},
   "outputs": [],
   "source": [
    "import torch\n",
    "import torch.nn as nn\n",
    "from torch.autograd import Variable\n",
    "import torchvision.transforms as transforms\n",
    "import torchvision.datasets as dsets\n",
    "import collections\n",
    "import matplotlib.pyplot as plt\n",
    "import numpy as np"
   ]
  },
  {
   "cell_type": "markdown",
   "metadata": {},
   "source": [
    "### Load Datasets"
   ]
  },
  {
   "cell_type": "code",
   "execution_count": 2,
   "metadata": {},
   "outputs": [],
   "source": [
    "# Get the training data set, train=True\n",
    "# Make sure data is tesnor, transform=transforms.ToTensor()\n",
    "# download if doesn't exist, download=True\n",
    "train_dataset = dsets.MNIST(root='./data', train=True, transform=transforms.ToTensor(), download=True)"
   ]
  },
  {
   "cell_type": "code",
   "execution_count": 3,
   "metadata": {},
   "outputs": [
    {
     "data": {
      "text/plain": [
       "60000"
      ]
     },
     "execution_count": 3,
     "metadata": {},
     "output_type": "execute_result"
    }
   ],
   "source": [
    "# number of samples in the data set\n",
    "len(train_dataset)"
   ]
  },
  {
   "cell_type": "code",
   "execution_count": 4,
   "metadata": {},
   "outputs": [],
   "source": [
    "# load the testing dataset\n",
    "test_dataset = dsets.MNIST(root='./data', train=False, transform=transforms.ToTensor())"
   ]
  },
  {
   "cell_type": "code",
   "execution_count": 5,
   "metadata": {},
   "outputs": [
    {
     "data": {
      "text/plain": [
       "10000"
      ]
     },
     "execution_count": 5,
     "metadata": {},
     "output_type": "execute_result"
    }
   ],
   "source": [
    "# number of samples in the data set\n",
    "len(test_dataset)"
   ]
  },
  {
   "cell_type": "code",
   "execution_count": 6,
   "metadata": {},
   "outputs": [],
   "source": [
    "batch_size = 50\n",
    "epochs = 20"
   ]
  },
  {
   "cell_type": "code",
   "execution_count": 7,
   "metadata": {},
   "outputs": [],
   "source": [
    "accuracy_list = []\n",
    "epoch_list = []\n",
    "for i in range(0,epochs):\n",
    "    epoch_list.append(i)"
   ]
  },
  {
   "cell_type": "code",
   "execution_count": 8,
   "metadata": {},
   "outputs": [
    {
     "data": {
      "text/plain": [
       "True"
      ]
     },
     "execution_count": 8,
     "metadata": {},
     "output_type": "execute_result"
    }
   ],
   "source": [
    "train_loader = torch.utils.data.DataLoader(dataset=train_dataset, batch_size=batch_size, shuffle=True)\n",
    "isinstance(train_loader, collections.Iterable)"
   ]
  },
  {
   "cell_type": "code",
   "execution_count": 9,
   "metadata": {},
   "outputs": [
    {
     "data": {
      "text/plain": [
       "True"
      ]
     },
     "execution_count": 9,
     "metadata": {},
     "output_type": "execute_result"
    }
   ],
   "source": [
    "test_loader = torch.utils.data.DataLoader(dataset=test_dataset, batch_size=batch_size, shuffle=False)\n",
    "isinstance(test_loader, collections.Iterable)"
   ]
  },
  {
   "cell_type": "markdown",
   "metadata": {},
   "source": [
    "### Build Model"
   ]
  },
  {
   "cell_type": "code",
   "execution_count": 10,
   "metadata": {},
   "outputs": [],
   "source": [
    "class FeedforwardNeuralNetwrokModel(nn.Module):\n",
    "    def __init__ (self, input_size, hidden_size, output_size, activation_type=\"sigmoid\"):\n",
    "        super(FeedforwardNeuralNetwrokModel, self).__init__()\n",
    "        # Linear function\n",
    "        self.fc1 = nn.Linear(input_size, hidden_size)\n",
    "        # Non-linear functions\n",
    "        self.activation_type = activation_type\n",
    "        if self.activation_type == \"sigmoid\":\n",
    "            self.sigmoid = nn.Sigmoid()\n",
    "        elif self.activation_type == \"tanh\":\n",
    "            self.tanh = nn.Tanh()\n",
    "        elif self.activation_type == \"relu\":\n",
    "            self.relu = nn.ReLU()\n",
    "        # Linear function\n",
    "        self.fc2 = nn.Linear(hidden_size, output_size)\n",
    "    \n",
    "    def forward(self, x):\n",
    "        # Linear function\n",
    "        out = self.fc1(x)\n",
    "        # Non-linear function\n",
    "        if self.activation_type == \"sigmoid\":\n",
    "            out = self.sigmoid(out)\n",
    "        elif self.activation_type == \"tanh\":\n",
    "            out = self.tanh(out)\n",
    "        elif self.activation_type == \"relu\":\n",
    "            out = self.relu(out)\n",
    "        # Linar function\n",
    "        out = self.fc2(out)\n",
    "        return out"
   ]
  },
  {
   "cell_type": "code",
   "execution_count": 11,
   "metadata": {},
   "outputs": [],
   "source": [
    "# input dimentiosn 28x28=784\n",
    "# output dimentiosn 10x10\n",
    "\n",
    "input_size = 784\n",
    "hidden_size = 100\n",
    "output_size = 10"
   ]
  },
  {
   "cell_type": "code",
   "execution_count": 12,
   "metadata": {},
   "outputs": [],
   "source": [
    "use_cuda = True"
   ]
  },
  {
   "cell_type": "code",
   "execution_count": 13,
   "metadata": {},
   "outputs": [],
   "source": [
    "model = FeedforwardNeuralNetwrokModel(input_size, hidden_size, output_size, \"relu\")"
   ]
  },
  {
   "cell_type": "code",
   "execution_count": 14,
   "metadata": {},
   "outputs": [],
   "source": [
    "# move the model to GPU\n",
    "if torch.cuda.is_available() and use_cuda:\n",
    "    model.cuda()"
   ]
  },
  {
   "cell_type": "code",
   "execution_count": 15,
   "metadata": {},
   "outputs": [],
   "source": [
    "loss_function = nn.CrossEntropyLoss()"
   ]
  },
  {
   "cell_type": "code",
   "execution_count": 16,
   "metadata": {},
   "outputs": [],
   "source": [
    "learning_rate = 0.1"
   ]
  },
  {
   "cell_type": "code",
   "execution_count": 17,
   "metadata": {},
   "outputs": [],
   "source": [
    "optimizer = torch.optim.SGD(model.parameters(), lr=learning_rate)"
   ]
  },
  {
   "cell_type": "code",
   "execution_count": 18,
   "metadata": {},
   "outputs": [],
   "source": [
    "def calcuateAccuracy():\n",
    "    correct = 0\n",
    "    total = 0\n",
    "        \n",
    "    for images, labels in test_loader:\n",
    "        # get all the images in the training data set\n",
    "        if torch.cuda.is_available() and use_cuda:\n",
    "            #move torch tensors to the GPU\n",
    "            images = Variable(images.view(-1, 784).cuda())\n",
    "        else:\n",
    "            images = Variable(images.view(-1, 784))\n",
    "        \n",
    "        # get all the predictions for each class using the model\n",
    "        all_predictions = model(images)\n",
    "            \n",
    "        # highest is the final prediction\n",
    "        _, predictions = torch.max(all_predictions.data, 1)\n",
    "       \n",
    "        # total number of samples\n",
    "        total = total + labels.size(0)\n",
    "            \n",
    "        # corrrect prediction\n",
    "        # compare prediction with labels element wise\n",
    "        # sum returned tensor (it has True/1 or False/0 in it)\n",
    "        if torch.cuda.is_available() and use_cuda:\n",
    "            correct = correct + (predictions.cpu() == labels.cpu()).sum()\n",
    "        else:\n",
    "            correct = correct + (predictions == labels).sum()\n",
    "        \n",
    "        correct_np = correct.numpy()\n",
    "            \n",
    "    accuracy = 100 * correct_np / total;\n",
    "    print(\"accuracy: \" + str(accuracy))\n",
    "    return accuracy"
   ]
  },
  {
   "cell_type": "code",
   "execution_count": 19,
   "metadata": {},
   "outputs": [],
   "source": [
    "def train():\n",
    "    for epoch in range(epochs):\n",
    "        for i, (images, labels) in enumerate(train_loader):\n",
    "            # get a batch of images and labels\n",
    "            if torch.cuda.is_available() and use_cuda:\n",
    "                #move torch tensors to the GPU\n",
    "                images = Variable(images.view(-1, 784).cuda())\n",
    "                labels = Variable(labels.cuda())\n",
    "            else:\n",
    "                images = Variable(images.view(-1, 784))\n",
    "                labels = Variable(labels)\n",
    "\n",
    "            # set gradients to 0\n",
    "            optimizer.zero_grad()\n",
    "\n",
    "            # get predictions for the batch\n",
    "            predictions = model(images)\n",
    "\n",
    "            # calculate loss\n",
    "            loss = loss_function(predictions, labels)\n",
    "\n",
    "            # calculate the gradients\n",
    "            loss.backward()\n",
    "\n",
    "            # update the weights\n",
    "            optimizer.step()\n",
    "\n",
    "        accuracy = calcuateAccuracy()\n",
    "        accuracy_list.append(accuracy)"
   ]
  },
  {
   "cell_type": "code",
   "execution_count": 20,
   "metadata": {},
   "outputs": [],
   "source": [
    "def plot():\n",
    "    plt.clf()\n",
    "    plt.plot(epoch_list, accuracy_list, '-', alpha=0.5)\n",
    "    plt.xlabel(\"epoch\")\n",
    "    plt.ylabel(\"accuracy\")\n",
    "    plt.xticks(epoch_list) \n",
    "    plt.yticks(np.arange(min(accuracy_list)-min(accuracy_list)%5, max(accuracy_list), 5)) \n",
    "    plt.show()"
   ]
  },
  {
   "cell_type": "code",
   "execution_count": 21,
   "metadata": {},
   "outputs": [
    {
     "name": "stdout",
     "output_type": "stream",
     "text": [
      "accuracy: 93.22\n",
      "accuracy: 94.97\n",
      "accuracy: 95.95\n",
      "accuracy: 96.38\n",
      "accuracy: 96.86\n",
      "accuracy: 97.13\n",
      "accuracy: 97.27\n",
      "accuracy: 97.29\n",
      "accuracy: 97.31\n",
      "accuracy: 97.42\n",
      "accuracy: 97.63\n",
      "accuracy: 97.49\n",
      "accuracy: 97.7\n",
      "accuracy: 97.68\n",
      "accuracy: 97.76\n",
      "accuracy: 97.72\n",
      "accuracy: 97.87\n",
      "accuracy: 97.74\n",
      "accuracy: 97.84\n",
      "accuracy: 97.79\n"
     ]
    }
   ],
   "source": [
    "train()"
   ]
  },
  {
   "cell_type": "code",
   "execution_count": 22,
   "metadata": {},
   "outputs": [
    {
     "data": {
      "image/png": "[encoded data removed]",
      "text/plain": [
       "<Figure size 432x288 with 1 Axes>"
      ]
     },
     "metadata": {
      "needs_background": "light"
     },
     "output_type": "display_data"
    }
   ],
   "source": [
    "plot()"
   ]
  },
  {
   "cell_type": "code",
   "execution_count": null,
   "metadata": {},
   "outputs": [],
   "source": []
  }
 ],
 "metadata": {
  "kernelspec": {
   "display_name": "Python 3",
   "language": "python",
   "name": "python3"
  },
  "language_info": {
   "codemirror_mode": {
    "name": "ipython",
    "version": 3
   },
   "file_extension": ".py",
   "mimetype": "text/x-python",
   "name": "python",
   "nbconvert_exporter": "python",
   "pygments_lexer": "ipython3",
   "version": "3.7.6"
  }
 },
 "nbformat": 4,
 "nbformat_minor": 2
}
