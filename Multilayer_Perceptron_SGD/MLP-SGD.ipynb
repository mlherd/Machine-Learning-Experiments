{
 "cells": [
  {
   "cell_type": "markdown",
   "metadata": {},
   "source": [
    "## Multilayer Perceptron - Stochastic Gradient Descent"
   ]
  },
  {
   "cell_type": "markdown",
   "metadata": {},
   "source": [
    "#### Husnu Melih Erdogan"
   ]
  },
  {
   "cell_type": "code",
   "execution_count": 1,
   "metadata": {
    "scrolled": true
   },
   "outputs": [],
   "source": [
    "import numpy\n",
    "import pickle\n",
    "import time\n",
    "import matplotlib.pyplot as plt\n",
    "from scipy.special import expit\n",
    "import pandas as pd\n",
    "\n",
    "%matplotlib inline\n",
    "#Suppress Scientific Notation\n",
    "numpy.set_printoptions(suppress=True)"
   ]
  },
  {
   "cell_type": "code",
   "execution_count": 2,
   "metadata": {
    "scrolled": true
   },
   "outputs": [],
   "source": [
    "# layer class\n",
    "class Layer():\n",
    "    # creates layers with given number of inputs and units (neurons)\n",
    "    # random weights between -0.05 and 0.05\n",
    "    def __init__(self, inputNumber, neuronNumber):\n",
    "        self.weights = numpy.random.uniform(-0.02,0.02,(inputNumber, neuronNumber))\n",
    "        self.bias = numpy.random.uniform(-0.02,0.02,(1, neuronNumber))"
   ]
  },
  {
   "cell_type": "markdown",
   "metadata": {},
   "source": [
    "## A layer with 5 neurons and 2 inputs. (Hidden Layer)\n",
    "Example:\n",
    "\n",
    "Hidden Layer =\n",
    "[-0.01334332,  0.01123723, -0.00299451,  0.01414014,  0.00258855]<br/>\n",
    "&nbsp;&nbsp;&nbsp;&nbsp;&nbsp;&nbsp;&nbsp;&nbsp;&nbsp;&nbsp;&nbsp;&nbsp;&nbsp;&nbsp;&nbsp;&nbsp;&nbsp;&nbsp;&nbsp;&nbsp;&nbsp;&nbsp;&nbsp;&nbsp;&nbsp;[ 0.01819275, -0.01172095,  0.01891833,  0.00798791,  0.0084223 ]<br/><br/>\n",
    "\n",
    "Hidden Layer Bias= [0.00814112,  0.01809999,  0.01832949,  0.01209556, -0.01409861]\n"
   ]
  },
  {
   "cell_type": "markdown",
   "metadata": {},
   "source": [
    "![](img/layer.png)"
   ]
  },
  {
   "cell_type": "markdown",
   "metadata": {},
   "source": [
    "## A layer with 1 neurons and 5 inputs. (Outpur Layer)\n",
    "Example:\n",
    "\n",
    "Output Layer =\n",
    "[ 0.01754977]<br/>\n",
    "&nbsp;&nbsp;&nbsp;&nbsp;&nbsp;&nbsp;&nbsp;&nbsp;&nbsp;&nbsp;&nbsp;&nbsp;&nbsp;&nbsp;&nbsp;&nbsp;&nbsp;&nbsp;&nbsp;&nbsp;&nbsp;&nbsp;&nbsp;&nbsp;&nbsp;[-0.01653402]<br/>\n",
    "&nbsp;&nbsp;&nbsp;&nbsp;&nbsp;&nbsp;&nbsp;&nbsp;&nbsp;&nbsp;&nbsp;&nbsp;&nbsp;&nbsp;&nbsp;&nbsp;&nbsp;&nbsp;&nbsp;&nbsp;&nbsp;&nbsp;&nbsp;&nbsp;&nbsp;[ 0.01448438]<br/>\n",
    "&nbsp;&nbsp;&nbsp;&nbsp;&nbsp;&nbsp;&nbsp;&nbsp;&nbsp;&nbsp;&nbsp;&nbsp;&nbsp;&nbsp;&nbsp;&nbsp;&nbsp;&nbsp;&nbsp;&nbsp;&nbsp;&nbsp;&nbsp;&nbsp;&nbsp;[-0.00082297]<br/>\n",
    "&nbsp;&nbsp;&nbsp;&nbsp;&nbsp;&nbsp;&nbsp;&nbsp;&nbsp;&nbsp;&nbsp;&nbsp;&nbsp;&nbsp;&nbsp;&nbsp;&nbsp;&nbsp;&nbsp;&nbsp;&nbsp;&nbsp;&nbsp;&nbsp;&nbsp;[-0.00214579]<br/>\n",
    "\n",
    "Output Layer Bias = [0.00982127]"
   ]
  },
  {
   "cell_type": "markdown",
   "metadata": {},
   "source": [
    "![](img/output.png)"
   ]
  },
  {
   "cell_type": "code",
   "execution_count": 3,
   "metadata": {
    "scrolled": true
   },
   "outputs": [],
   "source": [
    "# network class\n",
    "class NeuralNetwork():\n",
    "    def __init__(self, hidden, output, learning_rate, epoch, data_size):\n",
    "        #variables and parameters used in the network\n",
    "        #initilize the layers\n",
    "        self.layer1 = hidden\n",
    "        self.layer2 = output\n",
    "        \n",
    "        # set the learning rate\n",
    "        self.lr = learning_rate\n",
    "        \n",
    "        #number of epochs for training\n",
    "        self.epoch = epoch\n",
    "        \n",
    "        #size of the training data (number of examples used from the training data set)\n",
    "        self.data_size = data_size\n",
    "        \n",
    "        #variables for the data sets\n",
    "        self.train_data_set = None\n",
    "        self.test_data_set = None\n",
    "        \n",
    "        #variables for the parsed data sets (inputs and labels(targets))\n",
    "        #training\n",
    "        self.training_inputs = None\n",
    "        self.training_targets = None\n",
    "        \n",
    "        #testing\n",
    "        self.test_inputs = None\n",
    "        self.test_targets = None\n",
    "        \n",
    "        #accuracy\n",
    "        self.train_acc = 0\n",
    "        self.test_acc = 0\n",
    "        self.all_train_accuracy = []\n",
    "        self.all_test_accuracy = []\n",
    "        \n",
    "        # variables for plotting\n",
    "        self.error_in = []\n",
    "        self.error_out = []"
   ]
  },
  {
   "cell_type": "code",
   "execution_count": 4,
   "metadata": {},
   "outputs": [],
   "source": [
    "class NeuralNetwork(NeuralNetwork):\n",
    "    def plot_error(self):\n",
    "        fig_error_in = plt.figure(figsize=(20, 10))\n",
    "        plt.plot(self.error_in, label=\"Ein\")\n",
    "        plt.plot(self.error_out, label=\"Eout\")\n",
    "        plt.ylabel('Error')\n",
    "        plt.xlabel('Epoch')\n",
    "        plt.legend()\n",
    "        plt.show()"
   ]
  },
  {
   "cell_type": "code",
   "execution_count": 5,
   "metadata": {},
   "outputs": [],
   "source": [
    "class NeuralNetwork(NeuralNetwork):\n",
    "    def Eout_calculate(self):\n",
    "        Eout_all = []\n",
    "        for i in range (self.test_inputs.shape[0]):\n",
    "            inpt = self.test_inputs[i,:].reshape(1,2)\n",
    "            trgt = numpy.asscalar(self.test_targets[i,:].reshape(1,1))\n",
    "            layer1_outputs, layer2_output, z1, z2 = self.ForwardPropagation(inpt)\n",
    "            Eout_all.append((trgt - layer2_output)**2)\n",
    "        return numpy.mean(Eout_all)"
   ]
  },
  {
   "cell_type": "code",
   "execution_count": 6,
   "metadata": {},
   "outputs": [],
   "source": [
    "class NeuralNetwork(NeuralNetwork):\n",
    "    def plot_accuracy(self):\n",
    "        fig_accuracy = plt.figure(figsize=(20, 10))\n",
    "        plt.plot(self.all_train_accuracy, label=\"Training Dataset\")\n",
    "        plt.plot(self.all_test_accuracy, label=\"Test Dataset\")\n",
    "        plt.ylabel('Accuracy')\n",
    "        plt.xlabel('Epoch')\n",
    "        plt.legend()\n",
    "        plt.show()"
   ]
  },
  {
   "cell_type": "code",
   "execution_count": 7,
   "metadata": {},
   "outputs": [],
   "source": [
    "class NeuralNetwork(NeuralNetwork):\n",
    "    def accuracy_calculate(self, targets, predictions):\n",
    "        #number of correct classifications  \n",
    "        correct = 0\n",
    "\n",
    "        for i in range(len(predictions)):\n",
    "            if targets[i] == predictions[i]:\n",
    "                correct = correct + 1\n",
    "                \n",
    "        return correct / float(len(predictions)) * 100.0"
   ]
  },
  {
   "cell_type": "code",
   "execution_count": 8,
   "metadata": {},
   "outputs": [],
   "source": [
    "class NeuralNetwork(NeuralNetwork):\n",
    "    # accuracy calculation\n",
    "    def accuracy(self, option, print_results):\n",
    "        predictions = []\n",
    "        targets = []\n",
    "        \n",
    "    # option 1 uses the train data set\n",
    "        if option ==1:\n",
    "            a = self.training_inputs\n",
    "            b = self.training_targets\n",
    "\n",
    "    # option 2 uses the test data set\n",
    "        elif option ==2:\n",
    "            a = self.test_inputs\n",
    "            b = self.test_targets\n",
    "        \n",
    "    # Forward Propagation with traning/testing data set\n",
    "        for i in range (len(a)):\n",
    "            inpt = a[i,:].reshape(1,2)\n",
    "            trgt = numpy.asscalar(b[i,:].reshape(1,1))\n",
    "            \n",
    "            layer1_outputs, layer2_output, z1, z2 = self.ForwardPropagation(inpt)\n",
    "            \n",
    "            if numpy.asscalar(layer2_output[0]) >= 0:\n",
    "                p = 1\n",
    "            else:\n",
    "                p = -1\n",
    "            \n",
    "            predictions.append(p)\n",
    "            targets.append(trgt)\n",
    "        \n",
    "    # Calcuate the accuracy of the network and return the value\n",
    "        \n",
    "        if option == 1:\n",
    "            self.train_acc = self.accuracy_calculate(targets,predictions)\n",
    "            \n",
    "            if print_results:\n",
    "                print (\"train_data_acc:\" + str(self.train_acc))\n",
    "            \n",
    "            return self.train_acc\n",
    "                \n",
    "        if option == 2:\n",
    "            self.test_acc = self.accuracy_calculate(targets,predictions)\n",
    "            \n",
    "            if print_results:\n",
    "                print (\"test_data_acc:\" + str(self.test_acc))\n",
    "                \n",
    "            return self.test_acc\n",
    "        return True"
   ]
  },
  {
   "cell_type": "markdown",
   "metadata": {},
   "source": [
    "## Training Data Set"
   ]
  },
  {
   "cell_type": "markdown",
   "metadata": {},
   "source": [
    "![](img/inputs.png)"
   ]
  },
  {
   "cell_type": "code",
   "execution_count": 9,
   "metadata": {
    "scrolled": true
   },
   "outputs": [],
   "source": [
    "class NeuralNetwork(NeuralNetwork):\n",
    "    # open the pickle file and loads values into object\n",
    "    def pandas_open(self):\n",
    "        #create data frame using pandas for training and testing data sets\n",
    "        df_train = pd.read_csv('train.dat', sep='\\s+', header=None, skiprows=0)\n",
    "        df_test = pd.read_csv('test.dat', sep='\\s+', header=None, skiprows=0)\n",
    "        \n",
    "        #shuffle the training data set\n",
    "        df_train = df_train.sample(frac=1).reset_index(drop=True)\n",
    "        \n",
    "        #convert data frames to numpy array\n",
    "        self.train_data_set = df_train.values\n",
    "        self.test_data_set = df_test.values\n",
    "\n",
    "        #separete training data from labels\n",
    "        self.training_inputs = self.train_data_set[:, 0:2]\n",
    "        self.training_targets = self.train_data_set[:, 2:3]\n",
    "\n",
    "        #separete testing data from labels\n",
    "        self.test_inputs = self.test_data_set[:, 0:2]\n",
    "        self.test_targets = self.test_data_set[:, 2:3]\n",
    "\n",
    "        return True"
   ]
  },
  {
   "cell_type": "markdown",
   "metadata": {},
   "source": [
    "![](img/tanh.png)"
   ]
  },
  {
   "cell_type": "code",
   "execution_count": 10,
   "metadata": {
    "scrolled": true
   },
   "outputs": [],
   "source": [
    "class NeuralNetwork(NeuralNetwork):\n",
    "    # tangent fucntion method\n",
    "    def tanh_function(self, x):\n",
    "        t = numpy.tanh(x)\n",
    "        return t"
   ]
  },
  {
   "cell_type": "markdown",
   "metadata": {},
   "source": [
    "![](img/dtanh.png)"
   ]
  },
  {
   "cell_type": "code",
   "execution_count": 11,
   "metadata": {
    "scrolled": true
   },
   "outputs": [],
   "source": [
    "class NeuralNetwork(NeuralNetwork):\n",
    "    # method for the derivitive of tanh\n",
    "    def tanh_function_derivative(self, x):\n",
    "        dt =  1 - numpy.tanh(x)**2\n",
    "        return dt"
   ]
  },
  {
   "cell_type": "markdown",
   "metadata": {},
   "source": [
    "## Forward Propagation"
   ]
  },
  {
   "cell_type": "markdown",
   "metadata": {},
   "source": [
    "![](img/forwardpropagation.png)"
   ]
  },
  {
   "cell_type": "code",
   "execution_count": 12,
   "metadata": {
    "scrolled": true
   },
   "outputs": [],
   "source": [
    "class NeuralNetwork(NeuralNetwork):\n",
    "    # This method does the forward propagation\n",
    "    # The neural network predicts, returns predictions for each class (0-1)\n",
    "    def ForwardPropagation(self, inputs):\n",
    "        \n",
    "        #s = (X*w + bias)\n",
    "        output_from_layer1 = numpy.dot(inputs, self.layer1.weights)\n",
    "        output_from_layer1 = output_from_layer1 + self.layer1.bias\n",
    "    \n",
    "        z1 = output_from_layer1\n",
    "        #output of layer 1 = thanh(s)\n",
    "        output_from_layer1 = self.tanh_function(output_from_layer1)\n",
    "        \n",
    "        #s = (X*w + bias)\n",
    "        output_from_layer2 = numpy.dot(output_from_layer1, self.layer2.weights)\n",
    "        output_from_layer2 = output_from_layer2 + self.layer2.bias\n",
    "        \n",
    "        z2 = output_from_layer2\n",
    "        #output = thanh(s)\n",
    "        output_from_layer2 = self.tanh_function(output_from_layer2)\n",
    "        \n",
    "        return output_from_layer1, output_from_layer2, z1, z2"
   ]
  },
  {
   "cell_type": "markdown",
   "metadata": {},
   "source": [
    "## Backpropagation"
   ]
  },
  {
   "cell_type": "markdown",
   "metadata": {},
   "source": [
    "![](img/backpropagation.png)"
   ]
  },
  {
   "cell_type": "markdown",
   "metadata": {},
   "source": [
    "## Phases of Backpropagation Algorithm"
   ]
  },
  {
   "cell_type": "markdown",
   "metadata": {},
   "source": [
    "![](img/bp1.png)"
   ]
  },
  {
   "cell_type": "code",
   "execution_count": 13,
   "metadata": {},
   "outputs": [],
   "source": [
    "class NeuralNetwork(NeuralNetwork):\n",
    "    # this method does the traning-backpropgation\n",
    "    def train(self):\n",
    "        \n",
    "        self.error_in = []\n",
    "        self.error_out = []\n",
    "        self.all_train_accuracy = []\n",
    "        self.all_test_accuracy = []\n",
    "        \n",
    "        for j in range(1600):\n",
    "            all_error = []\n",
    "            for i in range(self.training_inputs.shape[0]):\n",
    "                # Forward Propagation with traning data\n",
    "                training_inputs = self.training_inputs[i,:].reshape(1,2)\n",
    "                layer1_outputs, layer2_output, z1, z2 = self.ForwardPropagation(training_inputs)\n",
    "                \n",
    "                # Get the label for the input\n",
    "                training_target = self.training_targets[i,:].reshape(1,1)\n",
    "                \n",
    "                # Calculate the error\n",
    "                error = (training_target - layer2_output)**2\n",
    "                all_error.append(numpy.asscalar(error[0]))\n",
    "                \n",
    "                # Calculate the error and delta for output layer\n",
    "                delta_outputlayer = 2* (layer2_output - training_target) * self.tanh_function_derivative(z2)\n",
    "\n",
    "                # Calculate the error and delta for hidden layer\n",
    "                layer1_error = delta_outputlayer * self.layer2.weights.T\n",
    "                delta_hiddenlayer = layer1_error * self.tanh_function_derivative(z1)\n",
    "                \n",
    "                # Calculate the adjustments\n",
    "                layer2_adjustment = layer1_outputs * delta_outputlayer * self.lr\n",
    "                layer1_adjustment = numpy.outer(training_inputs.T, delta_hiddenlayer) * self.lr\n",
    "\n",
    "                # Adjust the weights.\n",
    "                self.layer1.weights = self.layer1.weights - layer1_adjustment\n",
    "                self.layer2.weights = self.layer2.weights - layer2_adjustment.T\n",
    "\n",
    "                # update bias weights for hidden layer and output layer\n",
    "                layer1_bias_adjustment = delta_hiddenlayer * self.lr\n",
    "                layer2_bias_adjustment = delta_outputlayer * self.lr\n",
    "\n",
    "                # update the weights for bias\n",
    "                self.layer1.bias = self.layer1.bias - layer1_bias_adjustment \n",
    "                self.layer2.bias = self.layer2.bias - layer2_bias_adjustment\n",
    "            \n",
    "            # calculate the accuracy of the network on the training and testing data sets\n",
    "            self.all_train_accuracy.append(self.accuracy(1,0))\n",
    "            self.all_test_accuracy.append(self.accuracy(2,0))\n",
    "            \n",
    "            # calculate Ein and Eout\n",
    "            self.error_out.append(self.Eout_calculate())\n",
    "            self.error_in.append(numpy.mean(all_error))\n",
    "            \n",
    "        # plot the calculated error and accuracy of the network\n",
    "        self.plot_error()\n",
    "        self.plot_accuracy()"
   ]
  },
  {
   "cell_type": "code",
   "execution_count": 14,
   "metadata": {
    "scrolled": false
   },
   "outputs": [
    {
     "data": {
      "image/png": "[encoded data removed]",
      "text/plain": [
       "<Figure size 1440x720 with 1 Axes>"
      ]
     },
     "metadata": {
      "needs_background": "light"
     },
     "output_type": "display_data"
    },
    {
     "data": {
      "image/png": "[encoded data removed]",
      "text/plain": [
       "<Figure size 1440x720 with 1 Axes>"
      ]
     },
     "metadata": {
      "needs_background": "light"
     },
     "output_type": "display_data"
    }
   ],
   "source": [
    "if __name__ == \"__main__\":\n",
    "    #experiment parameters\n",
    "    number_of_inputs = 2\n",
    "    number_of_hidden_layer_nodes = 5\n",
    "    number_of_output_layer_nodes = 1\n",
    "    number_of_epochs = 5\n",
    "    trainining_data_size = 25\n",
    "    batch_size = trainining_data_size\n",
    "    learning_rate = 0.01\n",
    "    \n",
    "    # Create layer 1 (n units, n inputs\n",
    "    hidden = Layer(number_of_inputs, number_of_hidden_layer_nodes)\n",
    "    \n",
    "    # Create layer 2 (n units, n inputs)\n",
    "    output = Layer(number_of_hidden_layer_nodes, number_of_output_layer_nodes)\n",
    "    \n",
    "    # Create a Neural Network by Combining the created Layers , 25 is the number of traning examples\n",
    "    # None = momentum - it is 0 because it is not used in this example\n",
    "    neural_network = NeuralNetwork(hidden, output, learning_rate, number_of_epochs, trainining_data_size)\n",
    "\n",
    "    # load the traning data\n",
    "    neural_network.pandas_open()\n",
    "\n",
    "    # Train the neural network using the training set\n",
    "    neural_network.train()"
   ]
  },
  {
   "cell_type": "markdown",
   "metadata": {},
   "source": [
    "References\n",
    "- https://cs.anu.edu.au/courses/CSPROJECTS/17S2/reports/u5934839.pdf\n",
    "- https://www.ini.rub.de/PEOPLE/wiskott/Teaching/Material/Backpropagation-LectureNotesPublic.pdf"
   ]
  }
 ],
 "metadata": {
  "kernelspec": {
   "display_name": "Python 3",
   "language": "python",
   "name": "python3"
  },
  "language_info": {
   "codemirror_mode": {
    "name": "ipython",
    "version": 3
   },
   "file_extension": ".py",
   "mimetype": "text/x-python",
   "name": "python",
   "nbconvert_exporter": "python",
   "pygments_lexer": "ipython3",
   "version": "3.7.3"
  }
 },
 "nbformat": 4,
 "nbformat_minor": 2
}
